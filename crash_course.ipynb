{
 "cells": [
  {
   "cell_type": "markdown",
   "metadata": {},
   "source": [
    "# Python"
   ]
  },
  {
   "cell_type": "markdown",
   "metadata": {},
   "source": [
    "jupyter nbconvert --to markdown crash_course.ipynb --output README.md\n"
   ]
  },
  {
   "cell_type": "markdown",
   "metadata": {},
   "source": [
    "## Variables"
   ]
  },
  {
   "cell_type": "markdown",
   "metadata": {},
   "source": [
    "- Variable names are case sensitive(name and NAME are different variables)\n",
    "- Must start with a letter or an underscore\n",
    "- can have numbers but can not start with one"
   ]
  },
  {
   "cell_type": "code",
   "execution_count": 1,
   "metadata": {},
   "outputs": [
    {
     "name": "stdout",
     "output_type": "stream",
     "text": [
      "1\n",
      "1.234\n"
     ]
    }
   ],
   "source": [
    "x = 1          # int\n",
    "y = 1.234      #float\n",
    "name = 'Shoab'  #str\n",
    "is_cool= True\n",
    "print(x)\n",
    "print(y)\n",
    "\n"
   ]
  },
  {
   "cell_type": "markdown",
   "metadata": {},
   "source": [
    "### Multiple assignment"
   ]
  },
  {
   "cell_type": "code",
   "execution_count": 3,
   "metadata": {},
   "outputs": [
    {
     "name": "stdout",
     "output_type": "stream",
     "text": [
      "1 2.5 john True\n"
     ]
    }
   ],
   "source": [
    "x, y, name, is_cool= (1, 2.5, 'john', True)\n",
    "print(x, y, name, is_cool, )"
   ]
  },
  {
   "cell_type": "markdown",
   "metadata": {},
   "source": [
    "## Convertring Number to String"
   ]
  },
  {
   "cell_type": "markdown",
   "metadata": {},
   "source": [
    "- `str()` : to convert to `String`\n",
    "- `int()` : to convert to `integer` \n",
    "- `type()` : to check data type"
   ]
  },
  {
   "cell_type": "code",
   "execution_count": 6,
   "metadata": {},
   "outputs": [
    {
     "name": "stdout",
     "output_type": "stream",
     "text": [
      "<class 'float'> 2.0\n"
     ]
    }
   ],
   "source": [
    "x = str(x)\n",
    "y = int(y)\n",
    "z = float(y)\n",
    "print(type(z), z)"
   ]
  },
  {
   "cell_type": "markdown",
   "metadata": {},
   "source": [
    "## Concatanation"
   ]
  },
  {
   "cell_type": "code",
   "execution_count": 4,
   "metadata": {},
   "outputs": [
    {
     "name": "stdout",
     "output_type": "stream",
     "text": [
      "Hello 191\n",
      "ID: 191\n"
     ]
    }
   ],
   "source": [
    "id =191\n",
    "print(\"Hello \"+str(id)+\"\")\n",
    "print(f\"ID: {id}\")\n",
    "\n"
   ]
  },
  {
   "cell_type": "markdown",
   "metadata": {},
   "source": [
    "## string formating"
   ]
  },
  {
   "cell_type": "code",
   "execution_count": 7,
   "metadata": {},
   "outputs": [
    {
     "name": "stdout",
     "output_type": "stream",
     "text": [
      "My name is Brad and I am 37\n"
     ]
    }
   ],
   "source": [
    "name = 'Brad'\n",
    "age = 37\n",
    "print('My name is {name} and I am {age}'.format (name=name, age=age))"
   ]
  },
  {
   "cell_type": "markdown",
   "metadata": {},
   "source": [
    "###string method\n"
   ]
  },
  {
   "cell_type": "code",
   "execution_count": 12,
   "metadata": {},
   "outputs": [
    {
     "name": "stdout",
     "output_type": "stream",
     "text": [
      "Hello world\n",
      "True\n",
      "['hello', 'world']\n",
      "8\n",
      "HELLO WORLD\n"
     ]
    }
   ],
   "source": [
    "s='hello world'\n",
    "print(s.capitalize( ))\n",
    "print(s.endswith('d' ))\n",
    "print(s.split( ))\n",
    "print(s.find('r'))\n",
    "print(s.upper( ))\n",
    "\n"
   ]
  },
  {
   "cell_type": "markdown",
   "metadata": {},
   "source": [
    "## Function"
   ]
  },
  {
   "cell_type": "markdown",
   "metadata": {},
   "source": []
  },
  {
   "cell_type": "code",
   "execution_count": 11,
   "metadata": {},
   "outputs": [
    {
     "name": "stdout",
     "output_type": "stream",
     "text": [
      "Outside\n"
     ]
    }
   ],
   "source": [
    "def printInfo(n):\n",
    "    return n**2\n",
    "\n",
    "print(\"Outside\")"
   ]
  },
  {
   "cell_type": "code",
   "execution_count": 12,
   "metadata": {},
   "outputs": [
    {
     "name": "stdout",
     "output_type": "stream",
     "text": [
      "16\n"
     ]
    }
   ],
   "source": [
    "sqr = printInfo(4)\n",
    "print(sqr)"
   ]
  },
  {
   "cell_type": "markdown",
   "metadata": {},
   "source": [
    "## create list"
   ]
  },
  {
   "cell_type": "code",
   "execution_count": 15,
   "metadata": {},
   "outputs": [
    {
     "name": "stdout",
     "output_type": "stream",
     "text": [
      "Oranges\n",
      "3\n"
     ]
    }
   ],
   "source": [
    "numbers = [1,2,3,4,5]\n",
    "fruits = ['Apples', 'Oranges', 'Graps']\n",
    "print(fruits[1])\n",
    "print(len(fruits))\n"
   ]
  },
  {
   "cell_type": "code",
   "execution_count": null,
   "metadata": {},
   "outputs": [],
   "source": []
  }
 ],
 "metadata": {
  "interpreter": {
   "hash": "6d46af94c2bbce495f1e668725902fa517c90b1782bcfe2fce0dd9868df553d3"
  },
  "kernelspec": {
   "display_name": "Python 3.9.2 64-bit",
   "language": "python",
   "name": "python3"
  },
  "language_info": {
   "codemirror_mode": {
    "name": "ipython",
    "version": 3
   },
   "file_extension": ".py",
   "mimetype": "text/x-python",
   "name": "python",
   "nbconvert_exporter": "python",
   "pygments_lexer": "ipython3",
   "version": "3.9.7"
  },
  "metadata": {
   "interpreter": {
    "hash": "247ab06e135bb35fa78c5eff31b2a9a0050dcb5fb773c2631d2a29ac689eeccb"
   }
  },
  "orig_nbformat": 2
 },
 "nbformat": 4,
 "nbformat_minor": 2
}
