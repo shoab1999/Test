{
 "cells": [
  {
   "cell_type": "markdown",
   "metadata": {},
   "source": [
    "# Python"
   ]
  },
  {
   "cell_type": "markdown",
   "metadata": {},
   "source": [
    "jupyter nbconvert --to markdown crash_course.ipynb --output README.md\n"
   ]
  },
  {
   "cell_type": "markdown",
   "metadata": {},
   "source": [
    "## Variables"
   ]
  },
  {
   "cell_type": "markdown",
   "metadata": {},
   "source": [
    "- Variable names are case sensitive(name and NAME are different variables)\n",
    "- Must start with a letter or an underscore\n",
    "- can have numbers but can not start with one"
   ]
  },
  {
   "cell_type": "code",
   "execution_count": 7,
   "metadata": {},
   "outputs": [
    {
     "name": "stdout",
     "output_type": "stream",
     "text": [
      "1\n",
      "1.234\n",
      "Shoab\n",
      "allow\n",
      "Not a lover\n"
     ]
    }
   ],
   "source": [
    "x = 1          # int\n",
    "y = 1.234      #float\n",
    "name = 'Shoab'  #str\n",
    "is_admin= True\n",
    "print(x)\n",
    "print(y)\n",
    "print(name)\n",
    "\n",
    "if is_admin:\n",
    "    print(\"allow\")\n",
    "else:\n",
    "    print(\"not allowed\")\n",
    "\n",
    "lover = False\n",
    "\n",
    "if not lover: # !0 =1\n",
    "    print(\"Not a lover\")\n"
   ]
  },
  {
   "cell_type": "markdown",
   "metadata": {},
   "source": [
    "### Multiple assignment"
   ]
  },
  {
   "cell_type": "code",
   "execution_count": 3,
   "metadata": {},
   "outputs": [
    {
     "name": "stdout",
     "output_type": "stream",
     "text": [
      "1 2.5 john True\n"
     ]
    }
   ],
   "source": [
    "x, y, name, is_cool= (1, 2.5, 'john', True)\n",
    "print(x, y, name, is_cool, )"
   ]
  },
  {
   "cell_type": "markdown",
   "metadata": {},
   "source": [
    "## Convertring Number to String"
   ]
  },
  {
   "cell_type": "markdown",
   "metadata": {},
   "source": [
    "- `str()` : to convert to `String`\n",
    "- `int()` : to convert to `integer` \n",
    "- `type()` : to check data type"
   ]
  },
  {
   "cell_type": "code",
   "execution_count": 8,
   "metadata": {},
   "outputs": [
    {
     "name": "stdout",
     "output_type": "stream",
     "text": [
      "<class 'float'> 1.0\n"
     ]
    }
   ],
   "source": [
    "x = str(x)\n",
    "y = int(y)\n",
    "z = float(y)\n",
    "print(type(z), z)"
   ]
  },
  {
   "cell_type": "markdown",
   "metadata": {},
   "source": [
    "## Concatanation"
   ]
  },
  {
   "cell_type": "code",
   "execution_count": 4,
   "metadata": {},
   "outputs": [
    {
     "name": "stdout",
     "output_type": "stream",
     "text": [
      "Hello 191\n",
      "ID: 191\n"
     ]
    }
   ],
   "source": [
    "id =191\n",
    "print(\"Hello \"+str(id)+\"\")\n",
    "print(f\"ID: {id}\")\n",
    "\n"
   ]
  },
  {
   "cell_type": "markdown",
   "metadata": {},
   "source": [
    "## string formating"
   ]
  },
  {
   "cell_type": "code",
   "execution_count": 7,
   "metadata": {},
   "outputs": [
    {
     "name": "stdout",
     "output_type": "stream",
     "text": [
      "My name is Brad and I am 37\n"
     ]
    }
   ],
   "source": [
    "name = 'Brad'\n",
    "age = 37\n",
    "print('My name is {name} and I am {age}'.format (name=name, age=age))"
   ]
  },
  {
   "cell_type": "markdown",
   "metadata": {},
   "source": [
    "### string method\n"
   ]
  },
  {
   "cell_type": "code",
   "execution_count": 9,
   "metadata": {},
   "outputs": [
    {
     "name": "stdout",
     "output_type": "stream",
     "text": [
      "Hello world\n",
      "True\n",
      "['hello', 'world']\n",
      "['81/1', 'aruapara', 'kushtia']\n",
      "8\n",
      "HELLO WORLD\n"
     ]
    }
   ],
   "source": [
    "s='hello world'\n",
    "print(s.capitalize( ))\n",
    "print(s.endswith('d' ))\n",
    "print(s.split( ))\n",
    "print(\"81/1,aruapara,kushtia\".split(\",\"))\n",
    "print(s.find('r'))\n",
    "print(s.upper( ))\n",
    "\n"
   ]
  },
  {
   "cell_type": "markdown",
   "metadata": {},
   "source": [
    "## Function"
   ]
  },
  {
   "cell_type": "markdown",
   "metadata": {},
   "source": []
  },
  {
   "cell_type": "code",
   "execution_count": 18,
   "metadata": {},
   "outputs": [
    {
     "name": "stdout",
     "output_type": "stream",
     "text": [
      "Outside of function printInfo \n",
      "Outside of function printInfo \n",
      "Outside of function printInfo \n"
     ]
    }
   ],
   "source": [
    "print(\"Outside of function printInfo \")\n",
    "def printInfo():\n",
    "    print(\"Inside of function printInfo \") \n",
    "    print(\"Inside of function printInfo \")  \n",
    "    if 10>3:\n",
    "        print(\"still inside\")\n",
    "print(\"Outside of function printInfo \")\n",
    "\n",
    "\n",
    "print(\"Outside of function printInfo \")\n",
    "\n",
    "\n"
   ]
  },
  {
   "cell_type": "code",
   "execution_count": 19,
   "metadata": {},
   "outputs": [
    {
     "name": "stdout",
     "output_type": "stream",
     "text": [
      "Inside of function printInfo \n",
      "Inside of function printInfo \n",
      "still inside\n"
     ]
    }
   ],
   "source": [
    "printInfo()"
   ]
  },
  {
   "cell_type": "markdown",
   "metadata": {},
   "source": [
    "### return"
   ]
  },
  {
   "cell_type": "code",
   "execution_count": 20,
   "metadata": {},
   "outputs": [],
   "source": [
    "def printInfo(n):\n",
    "    return n**2"
   ]
  },
  {
   "cell_type": "code",
   "execution_count": 21,
   "metadata": {},
   "outputs": [
    {
     "name": "stdout",
     "output_type": "stream",
     "text": [
      "16\n"
     ]
    }
   ],
   "source": [
    "sqr = printInfo(4)\n",
    "print(sqr)\n"
   ]
  },
  {
   "cell_type": "markdown",
   "metadata": {},
   "source": [
    "### lambda function"
   ]
  },
  {
   "cell_type": "markdown",
   "metadata": {},
   "source": [
    "def"
   ]
  },
  {
   "cell_type": "code",
   "execution_count": 41,
   "metadata": {},
   "outputs": [],
   "source": [
    "# def getSum(num1, num2):\n",
    "#     total= num1+num2\n",
    "#     return total\n",
    "# or\n",
    "# # def getSum(num1, num2): return num1+num2\n",
    "getSum = lambda num1,num2 : num1+num2\n"
   ]
  },
  {
   "cell_type": "code",
   "execution_count": 42,
   "metadata": {},
   "outputs": [
    {
     "name": "stdout",
     "output_type": "stream",
     "text": [
      "3\n"
     ]
    }
   ],
   "source": [
    "print(getSum(1,2))"
   ]
  },
  {
   "cell_type": "markdown",
   "metadata": {},
   "source": [
    "## List"
   ]
  },
  {
   "cell_type": "markdown",
   "metadata": {},
   "source": [
    "### create list"
   ]
  },
  {
   "cell_type": "code",
   "execution_count": 25,
   "metadata": {},
   "outputs": [
    {
     "name": "stdout",
     "output_type": "stream",
     "text": [
      "Apples\n",
      "3\n",
      "['Apples', 'Oranges', 'Graps', 'mangoes']\n",
      "['Apples', 'Oranges', 'mangoes']\n",
      "['Apples', 'Strawberries', 'Oranges', 'mangoes']\n",
      "['Apples', 'banna', 'Oranges', 'mangoes']\n",
      "['mangoes', 'banna', 'Apples']\n",
      "['Apples', 'banna', 'mangoes']\n"
     ]
    }
   ],
   "source": [
    "numbers = [1,2,3,4,5]\n",
    "fruits = ['Apples', 'Oranges', 'Graps']\n",
    "#access\n",
    "print(fruits[0])\n",
    "#finding length\n",
    "print(len(fruits))\n",
    "#add\n",
    "fruits.append('mangoes')\n",
    "print(fruits)\n",
    "#remove\n",
    "fruits.remove('Graps')\n",
    "print(fruits)\n",
    "#insert(i,el)- add an element at position `i`\n",
    "fruits.insert(1, 'Strawberries')\n",
    "print(fruits)\n",
    "fruits[1] = 'banna'\n",
    "print(fruits)\n",
    "\n",
    "#remove with pop\n",
    "fruits.pop(2)\n",
    "#reverse list\n",
    "fruits.reverse()\n",
    "print(fruits)\n",
    "\n",
    "#sort list\n",
    "fruits.sort()\n",
    "print(fruits)"
   ]
  },
  {
   "cell_type": "markdown",
   "metadata": {},
   "source": [
    "## tuple"
   ]
  },
  {
   "cell_type": "code",
   "execution_count": 26,
   "metadata": {},
   "outputs": [
    {
     "name": "stdout",
     "output_type": "stream",
     "text": [
      "('Apples', 'Oranges', 'Grapes')\n",
      "Oranges\n"
     ]
    }
   ],
   "source": [
    "#create tuple\n",
    "fruits=('Apples', 'Oranges','Grapes' )\n",
    "\n",
    "print(fruits)\n",
    "print(fruits[1])"
   ]
  },
  {
   "cell_type": "code",
   "execution_count": 27,
   "metadata": {},
   "outputs": [
    {
     "ename": "TypeError",
     "evalue": "'tuple' object does not support item assignment",
     "output_type": "error",
     "traceback": [
      "\u001b[1;31m---------------------------------------------------------------------------\u001b[0m",
      "\u001b[1;31mTypeError\u001b[0m                                 Traceback (most recent call last)",
      "\u001b[1;32mC:\\Users\\MDSHOA~1\\AppData\\Local\\Temp/ipykernel_12496/2254711348.py\u001b[0m in \u001b[0;36m<module>\u001b[1;34m\u001b[0m\n\u001b[0;32m      1\u001b[0m \u001b[1;31m# not changeable\u001b[0m\u001b[1;33m\u001b[0m\u001b[1;33m\u001b[0m\u001b[0m\n\u001b[1;32m----> 2\u001b[1;33m \u001b[0mfruits\u001b[0m\u001b[1;33m[\u001b[0m\u001b[1;36m1\u001b[0m\u001b[1;33m]\u001b[0m \u001b[1;33m=\u001b[0m \u001b[1;34m'banna'\u001b[0m\u001b[1;33m\u001b[0m\u001b[1;33m\u001b[0m\u001b[0m\n\u001b[0m",
      "\u001b[1;31mTypeError\u001b[0m: 'tuple' object does not support item assignment"
     ]
    }
   ],
   "source": [
    "# unlke list tuple is not changeable\n",
    "fruits[1] = 'banna'"
   ]
  },
  {
   "cell_type": "markdown",
   "metadata": {},
   "source": [
    "## Dictionary"
   ]
  },
  {
   "cell_type": "code",
   "execution_count": 29,
   "metadata": {},
   "outputs": [
    {
     "name": "stdout",
     "output_type": "stream",
     "text": [
      "['Shoab', 191902039, 'PC-191']\n",
      "Shoab\n",
      "191902039\n",
      "\n",
      "{'name': 'soab', 'id': 191902061, 'batch': 'PC-191'}\n",
      "soab\n",
      "191902061\n"
     ]
    }
   ],
   "source": [
    "# storing student info in a list\n",
    "student= ['Shoab', 191902039, 'PC-191']\n",
    "# access  using `index` position\n",
    "print(student)\n",
    "print(student[0])\n",
    "print(student[1])\n",
    "# vs \n",
    "# in a dictionary:\n",
    "student = {\n",
    "    'name' : \"soab\",\n",
    "    'id':191902061,\n",
    "    'batch':'PC-191'\n",
    "}\n",
    "# access using `key`\n",
    "print()\n",
    "print(student)\n",
    "print(student['name'])\n",
    "print(student['id'])"
   ]
  },
  {
   "cell_type": "code",
   "execution_count": 21,
   "metadata": {},
   "outputs": [
    {
     "ename": "KeyError",
     "evalue": "'age'",
     "output_type": "error",
     "traceback": [
      "\u001b[1;31m---------------------------------------------------------------------------\u001b[0m",
      "\u001b[1;31mKeyError\u001b[0m                                  Traceback (most recent call last)",
      "\u001b[1;32mC:\\Users\\MDSHOA~1\\AppData\\Local\\Temp/ipykernel_7884/2291910217.py\u001b[0m in \u001b[0;36m<module>\u001b[1;34m\u001b[0m\n\u001b[0;32m      1\u001b[0m \u001b[1;31m# error\u001b[0m\u001b[1;33m\u001b[0m\u001b[1;33m\u001b[0m\u001b[0m\n\u001b[1;32m----> 2\u001b[1;33m \u001b[0mprint\u001b[0m\u001b[1;33m(\u001b[0m\u001b[0mstudent\u001b[0m\u001b[1;33m[\u001b[0m\u001b[1;34m'age'\u001b[0m\u001b[1;33m]\u001b[0m\u001b[1;33m)\u001b[0m\u001b[1;33m\u001b[0m\u001b[1;33m\u001b[0m\u001b[0m\n\u001b[0m",
      "\u001b[1;31mKeyError\u001b[0m: 'age'"
     ]
    }
   ],
   "source": [
    "# error \n",
    "print(student['age'])"
   ]
  },
  {
   "cell_type": "code",
   "execution_count": 10,
   "metadata": {},
   "outputs": [
    {
     "name": "stdout",
     "output_type": "stream",
     "text": [
      "None\n"
     ]
    }
   ],
   "source": [
    "# no error with get method\n",
    "print(student.get('age'))"
   ]
  },
  {
   "cell_type": "code",
   "execution_count": 23,
   "metadata": {},
   "outputs": [
    {
     "name": "stdout",
     "output_type": "stream",
     "text": [
      "{'name': 'soab', 'id': 191902039, 'batch': 'PC-191'}\n"
     ]
    }
   ],
   "source": [
    "# change the value\n",
    "student['id']= 191902039\n",
    "print(student)"
   ]
  },
  {
   "cell_type": "code",
   "execution_count": 24,
   "metadata": {},
   "outputs": [
    {
     "name": "stdout",
     "output_type": "stream",
     "text": [
      "{'name': 'soab', 'id': 191902039, 'batch': 'PC-191', 'phone': 17665530356}\n"
     ]
    }
   ],
   "source": [
    "#add key value\n",
    "student['phone']= 17665530356\n",
    "print(student)"
   ]
  },
  {
   "cell_type": "code",
   "execution_count": 25,
   "metadata": {},
   "outputs": [
    {
     "name": "stdout",
     "output_type": "stream",
     "text": [
      "dict_keys(['name', 'id', 'batch', 'phone'])\n"
     ]
    }
   ],
   "source": [
    "#get dic keys\n",
    "print(student.keys())\n"
   ]
  },
  {
   "cell_type": "code",
   "execution_count": 26,
   "metadata": {},
   "outputs": [
    {
     "name": "stdout",
     "output_type": "stream",
     "text": [
      "name : soab\n",
      "id : 191902039\n",
      "batch : PC-191\n",
      "phone : 17665530356\n"
     ]
    }
   ],
   "source": [
    "#get items\n",
    "# print(student.items()) # dict_items([('name', 'soab'), ('id', 191902061), ('batch', 'PC-191')])\n",
    "\n",
    "for k, v in student.items():\n",
    "    print(k+\" : \"+str(v))"
   ]
  },
  {
   "cell_type": "code",
   "execution_count": 27,
   "metadata": {},
   "outputs": [
    {
     "name": "stdout",
     "output_type": "stream",
     "text": [
      "{'name': 'soab', 'id': 191902039, 'batch': 'PC-191'}\n"
     ]
    }
   ],
   "source": [
    "#remove\n",
    "del(student['phone'])\n",
    "#pop\n",
    "# student.pop('phone')\n",
    "print(student)"
   ]
  },
  {
   "cell_type": "code",
   "execution_count": 31,
   "metadata": {},
   "outputs": [
    {
     "name": "stdout",
     "output_type": "stream",
     "text": [
      "[{'name': 'Shoab', 'id': 39}, {'name': 'Sarukh', 'id': 61}, {'name': 'Bappy', 'id': 43}]\n"
     ]
    }
   ],
   "source": [
    "# list of dic?\n",
    "student=[\n",
    "    {'name': 'Shoab', 'id': 39},\n",
    "    {'name' :'Sarukh', 'id':61},\n",
    "    {'name': 'Bappy', 'id': 43}\n",
    "    ]\n",
    "print(student)"
   ]
  },
  {
   "cell_type": "code",
   "execution_count": 33,
   "metadata": {},
   "outputs": [
    {
     "name": "stdout",
     "output_type": "stream",
     "text": [
      "{'name': 'Sarukh', 'id': 61}\n",
      "Sarukh\n"
     ]
    }
   ],
   "source": [
    "print(student[1])\n",
    "print(student[1]['name'])"
   ]
  },
  {
   "cell_type": "markdown",
   "metadata": {},
   "source": [
    "## Condition"
   ]
  },
  {
   "cell_type": "code",
   "execution_count": 52,
   "metadata": {},
   "outputs": [
    {
     "name": "stdout",
     "output_type": "stream",
     "text": [
      "12 is greater than 10\n"
     ]
    }
   ],
   "source": [
    "x=12\n",
    "y=10\n",
    "if x>y:\n",
    "    print(f'{x} is greater than {y}')\n",
    "\n",
    "\n"
   ]
  },
  {
   "cell_type": "code",
   "execution_count": 54,
   "metadata": {},
   "outputs": [
    {
     "name": "stdout",
     "output_type": "stream",
     "text": [
      "12 is greater than 12\n"
     ]
    }
   ],
   "source": [
    "x=12\n",
    "y=12\n",
    "if x>y:\n",
    "     print(f'{x} is greater than {y}')\n",
    "else:\n",
    "     print(f'{y} is greater than {x}')"
   ]
  },
  {
   "cell_type": "code",
   "execution_count": 55,
   "metadata": {},
   "outputs": [
    {
     "name": "stdout",
     "output_type": "stream",
     "text": [
      "12 is equal to 12\n"
     ]
    }
   ],
   "source": [
    "# elif\n",
    "if x> y:\n",
    "   print(f'{x} is greater than {y} ')\n",
    "elif x==y:\n",
    "    print(f'{x} is equal to {y}')\n",
    "else:\n",
    "    print(f'{y} is greater than {x}')"
   ]
  },
  {
   "cell_type": "markdown",
   "metadata": {},
   "source": [
    "### Nested If"
   ]
  },
  {
   "cell_type": "code",
   "execution_count": 57,
   "metadata": {},
   "outputs": [
    {
     "name": "stdout",
     "output_type": "stream",
     "text": [
      "5 is greater than 2 and less than or equal to 10\n"
     ]
    }
   ],
   "source": [
    "x=5\n",
    "if x>2:\n",
    "    if x<=10:\n",
    "        print(f'{x} is greater than 2 and less than or equal to 10')\n"
   ]
  },
  {
   "cell_type": "markdown",
   "metadata": {},
   "source": [
    "### logical operator\n"
   ]
  },
  {
   "cell_type": "code",
   "execution_count": 58,
   "metadata": {},
   "outputs": [
    {
     "name": "stdout",
     "output_type": "stream",
     "text": [
      "5 is greater than 2 and less than or equal to 10\n"
     ]
    }
   ],
   "source": [
    "if x>2 and x<=10:\n",
    "    print(f'{x} is greater than 2 and less than or equal to 10')"
   ]
  },
  {
   "cell_type": "markdown",
   "metadata": {},
   "source": [
    "### membership operator"
   ]
  },
  {
   "cell_type": "code",
   "execution_count": 63,
   "metadata": {},
   "outputs": [
    {
     "name": "stdout",
     "output_type": "stream",
     "text": [
      "not found\n"
     ]
    }
   ],
   "source": [
    "x=39\n",
    "lists = [1,2,3,4,9,8]\n",
    "if x in lists:\n",
    "    print(x)\n",
    "else:\n",
    "    print('not found')\n"
   ]
  },
  {
   "cell_type": "code",
   "execution_count": 65,
   "metadata": {},
   "outputs": [
    {
     "name": "stdout",
     "output_type": "stream",
     "text": [
      "not found\n"
     ]
    }
   ],
   "source": [
    "x=39\n",
    "lists = [1,2,3,4,9,8]\n",
    "if x not in lists:\n",
    "    print('not found')"
   ]
  },
  {
   "cell_type": "markdown",
   "metadata": {},
   "source": [
    "## loop"
   ]
  },
  {
   "cell_type": "code",
   "execution_count": 31,
   "metadata": {},
   "outputs": [
    {
     "name": "stdout",
     "output_type": "stream",
     "text": [
      "Current person: maria\n",
      "Current person: shoab\n",
      "Current person: bappy\n"
     ]
    }
   ],
   "source": [
    "people=['maria','shoab','bappy']\n",
    "for person in people:\n",
    "    print(f'Current person: {person}')\n"
   ]
  },
  {
   "cell_type": "code",
   "execution_count": 75,
   "metadata": {},
   "outputs": [
    {
     "name": "stdout",
     "output_type": "stream",
     "text": [
      "Current Person : maria\n"
     ]
    }
   ],
   "source": [
    "\n",
    "#break\n",
    "for person in people:\n",
    "    if person == 'maria':\n",
    "        print (f'Current Person : {person}')\n",
    "        break\n"
   ]
  },
  {
   "cell_type": "code",
   "execution_count": 76,
   "metadata": {},
   "outputs": [
    {
     "name": "stdout",
     "output_type": "stream",
     "text": [
      "Current Person : shoab\n",
      "Current Person : bappy\n"
     ]
    }
   ],
   "source": [
    "#continue === skip\n",
    "for person in people:\n",
    "    if person == 'maria':\n",
    "        continue\n",
    "    print (f'Current Person : {person}')"
   ]
  },
  {
   "cell_type": "markdown",
   "metadata": {},
   "source": [
    "### range"
   ]
  },
  {
   "cell_type": "code",
   "execution_count": 82,
   "metadata": {},
   "outputs": [
    {
     "name": "stdout",
     "output_type": "stream",
     "text": [
      "1\n",
      "2\n",
      "3\n",
      "4\n"
     ]
    }
   ],
   "source": [
    "for x in range(1,5):\n",
    "    print(x)"
   ]
  },
  {
   "cell_type": "code",
   "execution_count": 89,
   "metadata": {},
   "outputs": [
    {
     "name": "stdout",
     "output_type": "stream",
     "text": [
      "3\n",
      "maria\n"
     ]
    }
   ],
   "source": [
    "# how to get index of maria?????\n",
    "people=['A','shoab','bappy','maria']\n",
    "i = 0;\n",
    "for person in people:\n",
    "    if person == 'maria':\n",
    "        print(i)\n",
    "        break\n",
    "    i = i + 1\n",
    "\n",
    "print(people[i])"
   ]
  },
  {
   "cell_type": "code",
   "execution_count": 95,
   "metadata": {},
   "outputs": [
    {
     "name": "stdout",
     "output_type": "stream",
     "text": [
      "3\n"
     ]
    }
   ],
   "source": [
    "for i in range(len(people)):\n",
    "    if people[i] == 'maria':\n",
    "       print(i)"
   ]
  },
  {
   "cell_type": "markdown",
   "metadata": {},
   "source": [
    "#### ex:"
   ]
  },
  {
   "cell_type": "code",
   "execution_count": 54,
   "metadata": {},
   "outputs": [
    {
     "name": "stdout",
     "output_type": "stream",
     "text": [
      "Semester: 191, Credi: 9, GPA: 3.75,CGPA: 3.75\n",
      "Semester: 191, Credi: 9, GPA: 3.75,CGPA: 3.75\n",
      "Semester: 191, Credi: 9, GPA: 3.75,CGPA: 3.75\n",
      "Semester: 191, Credi: 9, GPA: 3.75,CGPA: 3.75\n"
     ]
    }
   ],
   "source": [
    "Result=[{\n",
    "'Semi': 191, 'CH': 9, 'GPA': 3.75, 'CGPA': 3.75\n",
    "},\n",
    "{\n",
    "'Semi': 191, 'CH': 9, 'GPA': 3.75, 'CGPA': 3.75\n",
    "},\n",
    "{\n",
    "'Semi': 191, 'CH': 9, 'GPA': 3.75, 'CGPA': 3.75\n",
    "},\n",
    "{\n",
    "'Semi': 191, 'CH': 9, 'GPA': 3.75, 'CGPA': 3.75\n",
    "},\n",
    "]\n",
    "\n",
    "for r in Result:\n",
    "    print(f\"Semester: {r['Semi']}, Credi: {r['CH']}, GPA: {r['GPA']},CGPA: {r['CGPA']}\")\n"
   ]
  },
  {
   "cell_type": "code",
   "execution_count": 98,
   "metadata": {},
   "outputs": [],
   "source": [
    "import requests\n",
    "import json\n"
   ]
  },
  {
   "cell_type": "code",
   "execution_count": 99,
   "metadata": {},
   "outputs": [
    {
     "data": {
      "text/plain": [
       "{'page': 2,\n",
       " 'per_page': 6,\n",
       " 'total': 12,\n",
       " 'total_pages': 2,\n",
       " 'data': [{'id': 7,\n",
       "   'email': 'michael.lawson@reqres.in',\n",
       "   'first_name': 'Michael',\n",
       "   'last_name': 'Lawson',\n",
       "   'avatar': 'https://reqres.in/img/faces/7-image.jpg'},\n",
       "  {'id': 8,\n",
       "   'email': 'lindsay.ferguson@reqres.in',\n",
       "   'first_name': 'Lindsay',\n",
       "   'last_name': 'Ferguson',\n",
       "   'avatar': 'https://reqres.in/img/faces/8-image.jpg'},\n",
       "  {'id': 9,\n",
       "   'email': 'tobias.funke@reqres.in',\n",
       "   'first_name': 'Tobias',\n",
       "   'last_name': 'Funke',\n",
       "   'avatar': 'https://reqres.in/img/faces/9-image.jpg'},\n",
       "  {'id': 10,\n",
       "   'email': 'byron.fields@reqres.in',\n",
       "   'first_name': 'Byron',\n",
       "   'last_name': 'Fields',\n",
       "   'avatar': 'https://reqres.in/img/faces/10-image.jpg'},\n",
       "  {'id': 11,\n",
       "   'email': 'george.edwards@reqres.in',\n",
       "   'first_name': 'George',\n",
       "   'last_name': 'Edwards',\n",
       "   'avatar': 'https://reqres.in/img/faces/11-image.jpg'},\n",
       "  {'id': 12,\n",
       "   'email': 'rachel.howell@reqres.in',\n",
       "   'first_name': 'Rachel',\n",
       "   'last_name': 'Howell',\n",
       "   'avatar': 'https://reqres.in/img/faces/12-image.jpg'}],\n",
       " 'support': {'url': 'https://reqres.in/#support-heading',\n",
       "  'text': 'To keep ReqRes free, contributions towards server costs are appreciated!'}}"
      ]
     },
     "execution_count": 99,
     "metadata": {},
     "output_type": "execute_result"
    }
   ],
   "source": [
    "url = 'https://reqres.in/api/users?page=2'\n",
    "res = requests.get(url)\n",
    "res = json.loads(res.text)\n",
    "res"
   ]
  },
  {
   "cell_type": "code",
   "execution_count": 100,
   "metadata": {},
   "outputs": [
    {
     "name": "stdout",
     "output_type": "stream",
     "text": [
      "Email: michael.lawson@reqres.in, Name: Michael \n",
      "Email: lindsay.ferguson@reqres.in, Name: Lindsay \n",
      "Email: tobias.funke@reqres.in, Name: Tobias \n",
      "Email: byron.fields@reqres.in, Name: Byron \n",
      "Email: george.edwards@reqres.in, Name: George \n",
      "Email: rachel.howell@reqres.in, Name: Rachel \n"
     ]
    }
   ],
   "source": [
    "\n",
    "list_of_user = res['data']\n",
    "for user in list_of_user:\n",
    "    email = user['email']\n",
    "    firstName = user['first_name']\n",
    "\n",
    "    print(f\"Email: {email}, Name: {firstName} \")"
   ]
  }
 ],
 "metadata": {
  "interpreter": {
   "hash": "6d46af94c2bbce495f1e668725902fa517c90b1782bcfe2fce0dd9868df553d3"
  },
  "kernelspec": {
   "display_name": "Python 3.9.2 64-bit",
   "language": "python",
   "name": "python3"
  },
  "language_info": {
   "codemirror_mode": {
    "name": "ipython",
    "version": 3
   },
   "file_extension": ".py",
   "mimetype": "text/x-python",
   "name": "python",
   "nbconvert_exporter": "python",
   "pygments_lexer": "ipython3",
   "version": "3.9.7"
  },
  "metadata": {
   "interpreter": {
    "hash": "247ab06e135bb35fa78c5eff31b2a9a0050dcb5fb773c2631d2a29ac689eeccb"
   }
  },
  "orig_nbformat": 2
 },
 "nbformat": 4,
 "nbformat_minor": 2
}
